{
 "cells": [
  {
   "cell_type": "markdown",
   "metadata": {
    "id": "ePOsKJgXequD"
   },
   "source": [
    "# Jawaban No 1\n"
   ]
  },
  {
   "cell_type": "markdown",
   "metadata": {
    "id": "rIYpwGElwxw-"
   },
   "source": [
    "*   Nama : Ranti Indriyani\n",
    "*   Nim : 20220040002\n",
    "*   Kelas : TI22C\n",
    "\n"
   ]
  },
  {
   "cell_type": "code",
   "execution_count": 31,
   "metadata": {
    "executionInfo": {
     "elapsed": 350,
     "status": "ok",
     "timestamp": 1675066174570,
     "user": {
      "displayName": "Rizki Panca",
      "userId": "10589971255223625133"
     },
     "user_tz": -420
    },
    "id": "34DpC4We1VNv"
   },
   "outputs": [],
   "source": [
    "Data_Nilai = [\n",
    "\t\t{\n",
    "        \"Student_Number\" : \"101\",\n",
    "        \"Nama\" : \"Andri\",\n",
    "        \"Subject\" : \"Programming Basic\",\n",
    "        \"Grade\" : 80\n",
    "    },\n",
    "\t\t{\n",
    "        \"Student_Number\" : \"102\",\n",
    "        \"Nama\" : \"Budi\",\n",
    "        \"Subject\" : \"Programming Basic\",\n",
    "        \"Grade\" : 90\n",
    "    },\n",
    "\t\t{\n",
    "        \"Student_Number\" : \"103\",\n",
    "        \"Nama\" : \"Cika\",\n",
    "        \"Subject\" : \"Programming Basic\",\n",
    "        \"Grade\" : 100\n",
    "    },\n",
    "    {\n",
    "        \"Student_Number\" : \"104\",\n",
    "        \"Nama\" : \"Dedi\",\n",
    "        \"Subject\" : \"Programming Basic\",\n",
    "        \"Grade\" : 100\n",
    "    },\n",
    "    {\n",
    "        \"Student_Number\" : \"105\",\n",
    "        \"Nama\" : \"Eka\",\n",
    "        \"Subject\" : \"Programming Basic\",\n",
    "        \"Grade\" : 50\n",
    "    },\n",
    "    {\n",
    "        \"Student_Number\" : \"106\",\n",
    "        \"Nama\" : \"Feri\",\n",
    "        \"Subject\" : \"Programming Basic\",\n",
    "        \"Grade\" : 40\n",
    "    },\n",
    "    {\n",
    "        \"Student_Number\" : \"107\",\n",
    "        \"Nama\" : \"Galih\",\n",
    "        \"Subject\" : \"Programming Basic\",\n",
    "        \"Grade\" : 70\n",
    "    },\n",
    "    {\n",
    "        \"Student_Number\" : \"108\",\n",
    "        \"Nama\" : \"Huda\",\n",
    "        \"Subject\" : \"Programming Basic\",\n",
    "        \"Grade\" : 70\n",
    "    },\n",
    "    {\n",
    "        \"Student_Number\" : \"109\",\n",
    "        \"Nama\" : \"Intan\",\n",
    "        \"Subject\" : \"Programming Basic\",\n",
    "        \"Grade\" : 60\n",
    "    },\n",
    "    {\n",
    "        \"Student_Number\" : \"101\",\n",
    "        \"Nama\" : \"Andri\",\n",
    "        \"Subject\" : \"Web Programming\",\n",
    "        \"Grade\" : 70\n",
    "    },\n",
    "    {\n",
    "        \"Student_Number\" : \"102\",\n",
    "        \"Nama\" : \"Budi\",\n",
    "        \"Subject\" : \"Web Programming\",\n",
    "        \"Grade\" : 80\n",
    "    },\n",
    "\t\t{\n",
    "        \"Student_Number\" : \"103\",\n",
    "        \"Nama\" : \"Cika\",\n",
    "        \"Subject\" : \"Web Programming\",\n",
    "        \"Grade\" : 80\n",
    "    },\n",
    "\t\t{\n",
    "        \"Student_Number\" : \"104\",\n",
    "        \"Nama\" : \"Dedi\",\n",
    "        \"Subject\" : \"Web Programming\",\n",
    "        \"Grade\" : 90\n",
    "    },\n",
    "\t\t{\n",
    "        \"Student_Number\" : \"105\",\n",
    "        \"Nama\" : \"Eka\",\n",
    "        \"Subject\" : \"Web Programming\",\n",
    "        \"Grade\" : 90\n",
    "    },\n",
    "\t\t{\n",
    "        \"Student_Number\" : \"106\",\n",
    "        \"Nama\" : \"Feri\",\n",
    "        \"Subject\" : \"Web Programming\",\n",
    "        \"Grade\" : 60\n",
    "    },\n",
    "\t\t{\n",
    "        \"Student_Number\" : \"107\",\n",
    "        \"Nama\" : \"Galih\",\n",
    "        \"Subject\" : \"Web Programming\",\n",
    "        \"Grade\" : 95\n",
    "    },{\n",
    "        \"Student_Number\" : \"108\",\n",
    "        \"Nama\" : \"Huda\",\n",
    "        \"Subject\" : \"Web Programming\",\n",
    "        \"Grade\" : 85\n",
    "    },\n",
    "\t\t{\n",
    "        \"Student_Number\" : \"109\",\n",
    "        \"Nama\" : \"Intan\",\n",
    "        \"Subject\" : \"Web Programming\",\n",
    "        \"Grade\" : 90\n",
    "    },\n",
    "]"
   ]
  },
  {
   "cell_type": "code",
   "execution_count": 45,
   "metadata": {
    "executionInfo": {
     "elapsed": 332,
     "status": "ok",
     "timestamp": 1675066641566,
     "user": {
      "displayName": "Rizki Panca",
      "userId": "10589971255223625133"
     },
     "user_tz": -420
    },
    "id": "cA4eDPN7e5F7"
   },
   "outputs": [],
   "source": [
    "def Nilailebih80(Data_Nilai):\n",
    "  result = [ ]\n",
    "\n",
    "  for item in Data_Nilai:\n",
    "    if item.get(\"Grade\") > 80:\n",
    "      result.append(item)\n",
    "\n",
    "  return result"
   ]
  },
  {
   "cell_type": "code",
   "execution_count": 46,
   "metadata": {
    "executionInfo": {
     "elapsed": 341,
     "status": "ok",
     "timestamp": 1675066652722,
     "user": {
      "displayName": "Rizki Panca",
      "userId": "10589971255223625133"
     },
     "user_tz": -420
    },
    "id": "5LR_iCijhpTU"
   },
   "outputs": [],
   "source": [
    "def printData(Data_Nilai):\n",
    "  for item in Data_Nilai:\n",
    "    print(\"==============================\")\n",
    "    print(\"Student Number :\", item.get(\"Student_Number\"))\n",
    "    print(\"Student Number :\", item.get(\"Nama\"))\n",
    "    print(\"Student Number :\", item.get(\"Subject\"))\n",
    "    print(\"Grade :\", item.get(\"Grade\"))\n",
    "    print(\"==============================\")\n",
    "    print(\"\\n\")"
   ]
  },
  {
   "cell_type": "code",
   "execution_count": 47,
   "metadata": {
    "colab": {
     "base_uri": "https://localhost:8080/"
    },
    "executionInfo": {
     "elapsed": 372,
     "status": "ok",
     "timestamp": 1675066655183,
     "user": {
      "displayName": "Rizki Panca",
      "userId": "10589971255223625133"
     },
     "user_tz": -420
    },
    "id": "fCqYNMxWjAi_",
    "outputId": "991b3335-45b0-442d-8ec5-4dda362a37dc"
   },
   "outputs": [
    {
     "name": "stdout",
     "output_type": "stream",
     "text": [
      "Data dengan nilai lebih dari 80\n",
      "\n",
      "==============================\n",
      "Student Number : 102\n",
      "Student Number : Budi\n",
      "Student Number : Programming Basic\n",
      "Grade : 90\n",
      "==============================\n",
      "\n",
      "\n",
      "==============================\n",
      "Student Number : 103\n",
      "Student Number : Cika\n",
      "Student Number : Programming Basic\n",
      "Grade : 100\n",
      "==============================\n",
      "\n",
      "\n",
      "==============================\n",
      "Student Number : 104\n",
      "Student Number : Dedi\n",
      "Student Number : Programming Basic\n",
      "Grade : 100\n",
      "==============================\n",
      "\n",
      "\n",
      "==============================\n",
      "Student Number : 104\n",
      "Student Number : Dedi\n",
      "Student Number : Web Programming\n",
      "Grade : 90\n",
      "==============================\n",
      "\n",
      "\n",
      "==============================\n",
      "Student Number : 105\n",
      "Student Number : Eka\n",
      "Student Number : Web Programming\n",
      "Grade : 90\n",
      "==============================\n",
      "\n",
      "\n",
      "==============================\n",
      "Student Number : 107\n",
      "Student Number : Galih\n",
      "Student Number : Web Programming\n",
      "Grade : 95\n",
      "==============================\n",
      "\n",
      "\n",
      "==============================\n",
      "Student Number : 108\n",
      "Student Number : Huda\n",
      "Student Number : Web Programming\n",
      "Grade : 85\n",
      "==============================\n",
      "\n",
      "\n",
      "==============================\n",
      "Student Number : 109\n",
      "Student Number : Intan\n",
      "Student Number : Web Programming\n",
      "Grade : 90\n",
      "==============================\n",
      "\n",
      "\n"
     ]
    }
   ],
   "source": [
    "print(\"Data dengan nilai lebih dari 80\\n\")\n",
    "printData(Nilailebih80(Data_Nilai))"
   ]
  }
 ],
 "metadata": {
  "colab": {
   "authorship_tag": "ABX9TyPTtsIgPqx0Hs2ykIpCfNx/",
   "provenance": []
  },
  "kernelspec": {
   "display_name": "Python 3 (ipykernel)",
   "language": "python",
   "name": "python3"
  },
  "language_info": {
   "codemirror_mode": {
    "name": "ipython",
    "version": 3
   },
   "file_extension": ".py",
   "mimetype": "text/x-python",
   "name": "python",
   "nbconvert_exporter": "python",
   "pygments_lexer": "ipython3",
   "version": "3.9.12"
  }
 },
 "nbformat": 4,
 "nbformat_minor": 1
}
